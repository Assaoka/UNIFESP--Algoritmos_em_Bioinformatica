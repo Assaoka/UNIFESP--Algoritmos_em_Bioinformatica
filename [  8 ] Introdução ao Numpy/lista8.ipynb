{
 "cells": [
  {
   "cell_type": "markdown",
   "metadata": {},
   "source": [
    "# Lista de Exercícios 08 – Numpy"
   ]
  },
  {
   "cell_type": "code",
   "execution_count": 2,
   "metadata": {},
   "outputs": [],
   "source": [
    "import numpy as np"
   ]
  },
  {
   "cell_type": "markdown",
   "metadata": {},
   "source": [
    "## 1. Crie um array unidimensional com valores aleatórios e imprima o valor médio e a mediana."
   ]
  },
  {
   "cell_type": "code",
   "execution_count": 12,
   "metadata": {},
   "outputs": [
    {
     "name": "stdout",
     "output_type": "stream",
     "text": [
      "Array: [0.44965229 0.54982915 0.06611837 0.41445969 0.81636401]\n",
      "Média: 0.4592847006059606\n",
      "Mediana: 0.44965228803849533\n"
     ]
    }
   ],
   "source": [
    "arr = np.random.rand(5)\n",
    "media = np.mean(arr)\n",
    "mediana = np.median(arr)\n",
    "\n",
    "print(f\"Array: {arr}\")\n",
    "print(f\"Média: {media}\")\n",
    "print(f\"Mediana: {mediana}\")"
   ]
  },
  {
   "cell_type": "markdown",
   "metadata": {},
   "source": [
    "# 2. Crie um array unidimensional com valores aleatórios e inverta a ordem dos elementos."
   ]
  },
  {
   "cell_type": "code",
   "execution_count": 13,
   "metadata": {},
   "outputs": [
    {
     "name": "stdout",
     "output_type": "stream",
     "text": [
      "Array original: [0.17519648 0.81998779 0.50220583 0.95291733 0.66111549]\n",
      "Array invertido: [0.66111549 0.95291733 0.50220583 0.81998779 0.17519648]\n"
     ]
    }
   ],
   "source": [
    "arr = np.random.rand(5)\n",
    "arr_invertido = arr[::-1]\n",
    "\n",
    "print(f\"Array original: {arr}\")\n",
    "print(f\"Array invertido: {arr_invertido}\")"
   ]
  },
  {
   "cell_type": "markdown",
   "metadata": {},
   "source": [
    "## 3. Crie um array unidimensional com valores aleatórios e calcule a diferença entre cada elemento e o próximo elemento."
   ]
  },
  {
   "cell_type": "code",
   "execution_count": 15,
   "metadata": {},
   "outputs": [
    {
     "name": "stdout",
     "output_type": "stream",
     "text": [
      "Array: [0.39623286 0.8892836  0.0743549  0.66200533 0.27947618]\n",
      "Diferenças: [ 0.49305075 -0.81492871  0.58765044 -0.38252915]\n"
     ]
    }
   ],
   "source": [
    "arr = np.random.rand(5)\n",
    "diferencas = np.diff(arr)\n",
    "\n",
    "print(f\"Array: {arr}\")\n",
    "print(f\"Diferenças: {diferencas}\")"
   ]
  },
  {
   "cell_type": "markdown",
   "metadata": {},
   "source": [
    "## 4. Crie uma matriz de zeros de tamanho 10x10 e adicione uma borda de valor 1."
   ]
  },
  {
   "cell_type": "code",
   "execution_count": 16,
   "metadata": {},
   "outputs": [
    {
     "data": {
      "text/plain": [
       "array([[0., 0., 0., 0., 0., 0., 0., 0., 0., 0.],\n",
       "       [0., 0., 0., 0., 0., 0., 0., 0., 0., 0.],\n",
       "       [0., 0., 0., 0., 0., 0., 0., 0., 0., 0.],\n",
       "       [0., 0., 0., 0., 0., 0., 0., 0., 0., 0.],\n",
       "       [0., 0., 0., 0., 0., 0., 0., 0., 0., 0.],\n",
       "       [0., 0., 0., 0., 0., 0., 0., 0., 0., 0.],\n",
       "       [0., 0., 0., 0., 0., 0., 0., 0., 0., 0.],\n",
       "       [0., 0., 0., 0., 0., 0., 0., 0., 0., 0.],\n",
       "       [0., 0., 0., 0., 0., 0., 0., 0., 0., 0.],\n",
       "       [0., 0., 0., 0., 0., 0., 0., 0., 0., 0.]])"
      ]
     },
     "execution_count": 16,
     "metadata": {},
     "output_type": "execute_result"
    }
   ],
   "source": [
    "# matriz 10x10 de zeros\n",
    "matriz  = np.zeros((10, 10))\n",
    "matriz "
   ]
  },
  {
   "cell_type": "code",
   "execution_count": 17,
   "metadata": {},
   "outputs": [
    {
     "data": {
      "text/plain": [
       "array([[1., 1., 1., 1., 1., 1., 1., 1., 1., 1.],\n",
       "       [0., 0., 0., 0., 0., 0., 0., 0., 0., 0.],\n",
       "       [0., 0., 0., 0., 0., 0., 0., 0., 0., 0.],\n",
       "       [0., 0., 0., 0., 0., 0., 0., 0., 0., 0.],\n",
       "       [0., 0., 0., 0., 0., 0., 0., 0., 0., 0.],\n",
       "       [0., 0., 0., 0., 0., 0., 0., 0., 0., 0.],\n",
       "       [0., 0., 0., 0., 0., 0., 0., 0., 0., 0.],\n",
       "       [0., 0., 0., 0., 0., 0., 0., 0., 0., 0.],\n",
       "       [0., 0., 0., 0., 0., 0., 0., 0., 0., 0.],\n",
       "       [1., 1., 1., 1., 1., 1., 1., 1., 1., 1.]])"
      ]
     },
     "execution_count": 17,
     "metadata": {},
     "output_type": "execute_result"
    }
   ],
   "source": [
    "# Pinta se for linha 1 ou coluna 1\n",
    "matriz[(0,-1),:] = 1 # Bordas Superior e Inferior\n",
    "matriz "
   ]
  },
  {
   "cell_type": "code",
   "execution_count": 18,
   "metadata": {},
   "outputs": [
    {
     "data": {
      "text/plain": [
       "array([[1., 1., 1., 1., 1., 1., 1., 1., 1., 1.],\n",
       "       [1., 0., 0., 0., 0., 0., 0., 0., 0., 1.],\n",
       "       [1., 0., 0., 0., 0., 0., 0., 0., 0., 1.],\n",
       "       [1., 0., 0., 0., 0., 0., 0., 0., 0., 1.],\n",
       "       [1., 0., 0., 0., 0., 0., 0., 0., 0., 1.],\n",
       "       [1., 0., 0., 0., 0., 0., 0., 0., 0., 1.],\n",
       "       [1., 0., 0., 0., 0., 0., 0., 0., 0., 1.],\n",
       "       [1., 0., 0., 0., 0., 0., 0., 0., 0., 1.],\n",
       "       [1., 0., 0., 0., 0., 0., 0., 0., 0., 1.],\n",
       "       [1., 1., 1., 1., 1., 1., 1., 1., 1., 1.]])"
      ]
     },
     "execution_count": 18,
     "metadata": {},
     "output_type": "execute_result"
    }
   ],
   "source": [
    "matriz[:,(0,-1)] = 1 # Bordas Esquerda e Direita\n",
    "matriz "
   ]
  },
  {
   "cell_type": "code",
   "execution_count": 19,
   "metadata": {},
   "outputs": [
    {
     "data": {
      "text/plain": [
       "array([[1., 1., 1., 1., 1., 1., 1., 1., 1., 1.],\n",
       "       [1., 0., 0., 0., 0., 0., 0., 0., 0., 1.],\n",
       "       [1., 0., 0., 0., 0., 0., 0., 0., 0., 1.],\n",
       "       [1., 0., 0., 0., 0., 0., 0., 0., 0., 1.],\n",
       "       [1., 0., 0., 0., 0., 0., 0., 0., 0., 1.],\n",
       "       [1., 0., 0., 0., 0., 0., 0., 0., 0., 1.],\n",
       "       [1., 0., 0., 0., 0., 0., 0., 0., 0., 1.],\n",
       "       [1., 0., 0., 0., 0., 0., 0., 0., 0., 1.],\n",
       "       [1., 0., 0., 0., 0., 0., 0., 0., 0., 1.],\n",
       "       [1., 1., 1., 1., 1., 1., 1., 1., 1., 1.]])"
      ]
     },
     "execution_count": 19,
     "metadata": {},
     "output_type": "execute_result"
    }
   ],
   "source": [
    "# Pode fazer um por um também\n",
    "matriz = np.zeros((10, 10))\n",
    "matriz[0,:] = 1 # Primeira linha\n",
    "matriz[-1,:] = 1 # Última linha\n",
    "matriz[:,0] = 1 # Primeira coluna\n",
    "matriz[:,-1] = 1 # Última coluna\n",
    "matriz"
   ]
  },
  {
   "cell_type": "markdown",
   "metadata": {},
   "source": [
    "## 5. Crie um array unidimensional com valores aleatórios e encontre o índice do valor mais próximo de um valor fornecido"
   ]
  },
  {
   "cell_type": "code",
   "execution_count": 25,
   "metadata": {},
   "outputs": [
    {
     "name": "stdout",
     "output_type": "stream",
     "text": [
      "Array: [0.2406362  0.1750002  0.64014782 0.55400307 0.57741141]\n",
      "Índice do valor mais próximo de 0.5: 3\n"
     ]
    }
   ],
   "source": [
    "arr = np.random.rand(5)\n",
    "valor = 0.5\n",
    "indice_proximo = np.abs(arr - valor).argmin()\n",
    "\n",
    "print(f\"Array: {arr}\")\n",
    "print(f\"Índice do valor mais próximo de {valor}: {indice_proximo}\")"
   ]
  },
  {
   "cell_type": "markdown",
   "metadata": {},
   "source": [
    "## 6. Crie um array unidimensional com valores aleatórios e encontre os valores únicos e suas contagens."
   ]
  },
  {
   "cell_type": "code",
   "execution_count": 26,
   "metadata": {},
   "outputs": [
    {
     "name": "stdout",
     "output_type": "stream",
     "text": [
      "Array: [2 2 2 0 9 4 0 0 9 2]\n",
      "Valores únicos: [0 2 4 9]\n",
      "Contagens: [3 4 1 2]\n"
     ]
    }
   ],
   "source": [
    "arr = np.random.randint(0, 10, size=10)\n",
    "valores_unicos, contagens = np.unique(arr, return_counts=True)\n",
    "\n",
    "print(f\"Array: {arr}\")\n",
    "print(f\"Valores únicos: {valores_unicos}\")\n",
    "print(f\"Contagens: {contagens}\")\n"
   ]
  },
  {
   "cell_type": "code",
   "execution_count": null,
   "metadata": {},
   "outputs": [],
   "source": []
  }
 ],
 "metadata": {
  "kernelspec": {
   "display_name": "Python 3",
   "language": "python",
   "name": "python3"
  },
  "language_info": {
   "codemirror_mode": {
    "name": "ipython",
    "version": 3
   },
   "file_extension": ".py",
   "mimetype": "text/x-python",
   "name": "python",
   "nbconvert_exporter": "python",
   "pygments_lexer": "ipython3",
   "version": "3.11.4"
  }
 },
 "nbformat": 4,
 "nbformat_minor": 2
}
